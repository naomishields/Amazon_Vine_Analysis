{
  "nbformat": 4,
  "nbformat_minor": 0,
  "metadata": {
    "colab": {
      "name": "Amazon_Reviews_ETL.ipynb",
      "provenance": []
    },
    "kernelspec": {
      "name": "python3",
      "display_name": "Python 3"
    },
    "nteract": {
      "version": "0.12.3"
    },
    "language_info": {
      "name": "python"
    }
  },
  "cells": [
    {
      "cell_type": "code",
      "metadata": {
        "id": "V58rxea0HqSa",
        "colab": {
          "base_uri": "https://localhost:8080/"
        },
        "outputId": "ad803fc9-7204-46be-e0be-966efe186b77"
      },
      "source": [
        "import os\n",
        "# Find the latest version of spark 3.0 from http://www.apache.org/dist/spark/ and enter as the spark version\n",
        "# For example:\n",
        "# spark_version = 'spark-3.0.3'\n",
        "spark_version = 'spark-3.0.3'\n",
        "os.environ['SPARK_VERSION']=spark_version\n",
        "\n",
        "# Install Spark and Java\n",
        "!apt-get update\n",
        "!apt-get install openjdk-11-jdk-headless -qq > /dev/null\n",
        "!wget -q http://www.apache.org/dist/spark/$SPARK_VERSION/$SPARK_VERSION-bin-hadoop2.7.tgz\n",
        "!tar xf $SPARK_VERSION-bin-hadoop2.7.tgz\n",
        "!pip install -q findspark\n",
        "\n",
        "# Set Environment Variables\n",
        "import os\n",
        "os.environ[\"JAVA_HOME\"] = \"/usr/lib/jvm/java-11-openjdk-amd64\"\n",
        "os.environ[\"SPARK_HOME\"] = f\"/content/{spark_version}-bin-hadoop2.7\"\n",
        "\n",
        "# Start a SparkSession\n",
        "import findspark\n",
        "findspark.init()"
      ],
      "execution_count": null,
      "outputs": [
        {
          "output_type": "stream",
          "text": [
            "\r0% [Working]\r            \rGet:1 https://cloud.r-project.org/bin/linux/ubuntu bionic-cran40/ InRelease [3,626 B]\n",
            "\r0% [Connecting to archive.ubuntu.com] [Connecting to security.ubuntu.com] [1 In\r0% [Connecting to archive.ubuntu.com] [Connecting to security.ubuntu.com] [Conn\r                                                                               \rIgn:2 https://developer.download.nvidia.com/compute/cuda/repos/ubuntu1804/x86_64  InRelease\n",
            "\r0% [Connecting to archive.ubuntu.com (91.189.88.142)] [Connecting to security.u\r0% [1 InRelease gpgv 3,626 B] [Connecting to archive.ubuntu.com (91.189.88.142)\r                                                                               \rIgn:3 https://developer.download.nvidia.com/compute/machine-learning/repos/ubuntu1804/x86_64  InRelease\n",
            "\r0% [1 InRelease gpgv 3,626 B] [Connecting to archive.ubuntu.com (91.189.88.142)\r                                                                               \rGet:4 https://developer.download.nvidia.com/compute/cuda/repos/ubuntu1804/x86_64  Release [697 B]\n",
            "\r0% [1 InRelease gpgv 3,626 B] [Connecting to archive.ubuntu.com (91.189.88.142)\r0% [1 InRelease gpgv 3,626 B] [Connecting to archive.ubuntu.com (91.189.88.142)\r                                                                               \rHit:5 https://developer.download.nvidia.com/compute/machine-learning/repos/ubuntu1804/x86_64  Release\n",
            "Get:6 https://developer.download.nvidia.com/compute/cuda/repos/ubuntu1804/x86_64  Release.gpg [836 B]\n",
            "Get:7 http://security.ubuntu.com/ubuntu bionic-security InRelease [88.7 kB]\n",
            "Get:8 http://ppa.launchpad.net/c2d4u.team/c2d4u4.0+/ubuntu bionic InRelease [15.9 kB]\n",
            "Hit:9 http://archive.ubuntu.com/ubuntu bionic InRelease\n",
            "Get:10 http://archive.ubuntu.com/ubuntu bionic-updates InRelease [88.7 kB]\n",
            "Get:11 https://cloud.r-project.org/bin/linux/ubuntu bionic-cran40/ Packages [62.9 kB]\n",
            "Hit:12 http://ppa.launchpad.net/cran/libgit2/ubuntu bionic InRelease\n",
            "Get:14 http://ppa.launchpad.net/deadsnakes/ppa/ubuntu bionic InRelease [15.9 kB]\n",
            "Get:15 http://archive.ubuntu.com/ubuntu bionic-backports InRelease [74.6 kB]\n",
            "Ign:16 https://developer.download.nvidia.com/compute/cuda/repos/ubuntu1804/x86_64  Packages\n",
            "Get:16 https://developer.download.nvidia.com/compute/cuda/repos/ubuntu1804/x86_64  Packages [695 kB]\n",
            "Get:17 http://ppa.launchpad.net/graphics-drivers/ppa/ubuntu bionic InRelease [21.3 kB]\n",
            "Get:18 http://ppa.launchpad.net/c2d4u.team/c2d4u4.0+/ubuntu bionic/main Sources [1,786 kB]\n",
            "Get:19 http://security.ubuntu.com/ubuntu bionic-security/multiverse amd64 Packages [26.7 kB]\n",
            "Get:20 http://security.ubuntu.com/ubuntu bionic-security/universe amd64 Packages [1,420 kB]\n",
            "Get:21 http://security.ubuntu.com/ubuntu bionic-security/restricted amd64 Packages [510 kB]\n",
            "Get:22 http://security.ubuntu.com/ubuntu bionic-security/main amd64 Packages [2,263 kB]\n",
            "Get:23 http://archive.ubuntu.com/ubuntu bionic-updates/universe amd64 Packages [2,195 kB]\n",
            "Get:24 http://ppa.launchpad.net/c2d4u.team/c2d4u4.0+/ubuntu bionic/main amd64 Packages [914 kB]\n",
            "Get:25 http://archive.ubuntu.com/ubuntu bionic-updates/restricted amd64 Packages [544 kB]\n",
            "Get:26 http://archive.ubuntu.com/ubuntu bionic-updates/main amd64 Packages [2,698 kB]\n",
            "Get:27 http://archive.ubuntu.com/ubuntu bionic-updates/multiverse amd64 Packages [39.4 kB]\n",
            "Get:28 http://ppa.launchpad.net/deadsnakes/ppa/ubuntu bionic/main amd64 Packages [40.9 kB]\n",
            "Get:29 http://ppa.launchpad.net/graphics-drivers/ppa/ubuntu bionic/main amd64 Packages [44.1 kB]\n",
            "Fetched 13.5 MB in 5s (2,683 kB/s)\n",
            "Reading package lists... Done\n"
          ],
          "name": "stdout"
        }
      ]
    },
    {
      "cell_type": "code",
      "metadata": {
        "id": "_xKwTpATHqSe",
        "colab": {
          "base_uri": "https://localhost:8080/"
        },
        "outputId": "ef748e6a-3877-4ecb-9473-22cd946390e8"
      },
      "source": [
        "# Download the Postgres driver that will allow Spark to interact with Postgres.\n",
        "!wget https://jdbc.postgresql.org/download/postgresql-42.2.16.jar"
      ],
      "execution_count": null,
      "outputs": [
        {
          "output_type": "stream",
          "text": [
            "--2021-08-09 13:44:27--  https://jdbc.postgresql.org/download/postgresql-42.2.16.jar\n",
            "Resolving jdbc.postgresql.org (jdbc.postgresql.org)... 72.32.157.228, 2001:4800:3e1:1::228\n",
            "Connecting to jdbc.postgresql.org (jdbc.postgresql.org)|72.32.157.228|:443... connected.\n",
            "HTTP request sent, awaiting response... 200 OK\n",
            "Length: 1002883 (979K) [application/java-archive]\n",
            "Saving to: ‘postgresql-42.2.16.jar’\n",
            "\n",
            "postgresql-42.2.16. 100%[===================>] 979.38K  6.05MB/s    in 0.2s    \n",
            "\n",
            "2021-08-09 13:44:27 (6.05 MB/s) - ‘postgresql-42.2.16.jar’ saved [1002883/1002883]\n",
            "\n"
          ],
          "name": "stdout"
        }
      ]
    },
    {
      "cell_type": "code",
      "metadata": {
        "id": "MMqDAjVS0KN9"
      },
      "source": [
        "from pyspark.sql import SparkSession\n",
        "spark = SparkSession.builder.appName(\"M16-Amazon-Challenge\").config(\"spark.driver.extraClassPath\",\"/content/postgresql-42.2.16.jar\").getOrCreate()"
      ],
      "execution_count": null,
      "outputs": []
    },
    {
      "cell_type": "markdown",
      "metadata": {
        "id": "cyBsySGuY-9V"
      },
      "source": [
        "### Load Amazon Data into Spark DataFrame"
      ]
    },
    {
      "cell_type": "code",
      "metadata": {
        "id": "CtCmBhQJY-9Z",
        "colab": {
          "base_uri": "https://localhost:8080/"
        },
        "outputId": "c7d2c6c4-742d-4350-9c90-7eb2965afb16"
      },
      "source": [
        "from pyspark import SparkFiles\n",
        "url = \"https://s3.amazonaws.com/amazon-reviews-pds/tsv/amazon_reviews_multilingual_FR_v1_00.tsv.gz\"\n",
        "spark.sparkContext.addFile(url)\n",
        "df = spark.read.option(\"encoding\", \"UTF-8\").csv(SparkFiles.get(\"\"), sep=\"\\t\", header=True, inferSchema=True)\n",
        "df.show()"
      ],
      "execution_count": null,
      "outputs": [
        {
          "output_type": "stream",
          "text": [
            "+-----------+-----------+--------------+----------+--------------+--------------------+--------------------+-----------+-------------+-----------+----+-----------------+--------------------+--------------------+-----------+\n",
            "|marketplace|customer_id|     review_id|product_id|product_parent|       product_title|    product_category|star_rating|helpful_votes|total_votes|vine|verified_purchase|     review_headline|         review_body|review_date|\n",
            "+-----------+-----------+--------------+----------+--------------+--------------------+--------------------+-----------+-------------+-----------+----+-----------------+--------------------+--------------------+-----------+\n",
            "|         FR|      14952|R32VYUWDIB5LKE|0552774294|     362925721|    The God Delusion|               Books|          5|            0|          0|   N|                Y|a propos de ce livre|je conseille fort...| 2013-02-13|\n",
            "|         FR|      14952|R3CCMP4EV6HAVL|B004GJXQ20|     268067011|A Game of Thrones...|Digital_Ebook_Pur...|          5|            0|          0|   N|                Y|                 wow|ce magnifique est...| 2014-08-03|\n",
            "|         FR|      17564|R14NAE6UGTVTA2|B00GIGGS6A|     256731097|      Huion H610 PRO|                  PC|          3|            1|          3|   N|                Y|      Ca fait le job|Je dirais qu'il a...| 2015-07-07|\n",
            "|         FR|      18940|R2E7QEWSC6EWFA|B00CW7KK9K|     977480037|Withings Pulse - ...|              Sports|          4|            0|          1|   N|                Y|Fidele a description|Je l'ai depuis qu...| 2014-06-16|\n",
            "|         FR|      20315|R26E6I47GQRYKR|B002L6SKIK|     827187473|          Prometheus|           Video DVD|          2|            3|          5|   N|                N|            décevant|je m'attendait à ...| 2013-06-10|\n",
            "|         FR|      20842|R1RJMTSNCKB9LP|B00004YLIU|     678427290|               Kid A|               Music|          2|            0|          0|   N|                Y|                 10'|Ne disait pas sur...| 2013-04-15|\n",
            "|         FR|      20913|R2P2XF84YELQBZ|B00AYHK7RU|     108403123|        The Next Day|               Music|          5|            0|          3|   N|                Y|        the next day|du bon bowie,tr&e...| 2013-06-07|\n",
            "|         FR|      21490| RJKULSX2Y5R07|B00CJ3V5UK|     252503117|G.I. Joe 2 : Cons...|           Video DVD|          5|            0|          0|   N|                Y|       tres bon film|très bon film bea...| 2014-11-07|\n",
            "|         FR|      24196|R3UYE0U7SQCI8Q|B000FUM0TE|      48021829|             Amistad|           Video DVD|          5|            2|          3|   N|                Y|           Excellent|Un sujet délicat ...| 2012-11-16|\n",
            "|         FR|      24196|R1TKJ7XFS3RDEB|B000UMXCTY|     181554537|The Collection (C...|               Music|          5|            0|          1|   N|                Y|       C'est parfait|Un coffret d'un d...| 2013-04-23|\n",
            "|         FR|      24196|R3S9JNS21QDBXP|B0044JV1K6|     386772628|Braddock - Missin...|           Video DVD|          5|            0|          2|   N|                Y|    Excellent achat.|Un grand classiqu...| 2013-08-02|\n",
            "|         FR|      24196|R2Y4O06QMOGHD0|2226249672|     753674225|Au revoir là-haut...|               Books|          5|            2|          3|   N|                Y|     Excellent achat|Livre offert pour...| 2013-10-03|\n",
            "|         FR|      24196|R3PS3P7G1ZT57W|B000A3IF8G|     757843869|The Essential Mic...|               Music|          5|            0|          0|   N|                Y|     Excellent achat|Un artiste inoubl...| 2014-08-21|\n",
            "|         FR|      24207|R1NFWFM2WWRWPM|B00B4VI8MQ|     351620851|Epic Adventures: ...|         Mobile_Apps|          5|            0|          0|   N|                Y|                jeux|Trop cool ce jeux...| 2014-01-31|\n",
            "|         FR|      24207|R3QRIH5CXCXMEL|B00CW6DAKC|      87169065|    Super Ferme Mini|         Mobile_Apps|          4|            4|          6|   N|                Y|             ajouter|Ajouter moi &agra...| 2014-07-29|\n",
            "|         FR|      24629| RBCSM1KTYH6FX|B0031ES8P6|     724566333|Ty - Ty40819 - Pe...|                Toys|          4|            0|          0|   N|                Y|           Très bien|Bonne idée de cad...| 2014-01-13|\n",
            "|         FR|      24844|R2BIWHFIS7X808|B007AR7OGE|     414300413|First lady of son...|               Music|          5|            3|          4|   N|                Y|               Great|Just great compli...| 2012-12-17|\n",
            "|         FR|      25935|R2VGNSD09UEW5T|B00XO12REY|     271191040|  The Monsanto Years|               Music|          1|            1|          9|   N|                Y|commentaire sur M...|Pas beaucoup de s...| 2015-07-21|\n",
            "|         FR|      26425| RTGC85CCO9EMU|B007ZMHBBM|     893659638|Checkerboard Loun...|           Video DVD|          5|            0|          0|   N|                Y|        Muddy Waters|Superbe session e...| 2012-11-22|\n",
            "|         FR|      26552|R128Q27ZKTLGJ1|0446310786|     994527755|To Kill a Mocking...|               Books|          5|            0|          0|   N|                Y|          Beautiful!|I know it's a cla...| 2015-01-19|\n",
            "+-----------+-----------+--------------+----------+--------------+--------------------+--------------------+-----------+-------------+-----------+----+-----------------+--------------------+--------------------+-----------+\n",
            "only showing top 20 rows\n",
            "\n"
          ],
          "name": "stdout"
        }
      ]
    },
    {
      "cell_type": "markdown",
      "metadata": {
        "id": "2yUSe55VY-9t"
      },
      "source": [
        "### Create DataFrames to match tables"
      ]
    },
    {
      "cell_type": "code",
      "metadata": {
        "id": "C8REmY1aY-9u",
        "colab": {
          "base_uri": "https://localhost:8080/"
        },
        "outputId": "26c9169a-910d-44cb-9237-eff851950953"
      },
      "source": [
        "from pyspark.sql.functions import to_date\n",
        "# Read in the Review dataset as a DataFrame\n",
        "url = \"https://s3.amazonaws.com/amazon-reviews-pds/tsv/amazon_reviews_multilingual_FR_v1_00.tsv.gz\"\n",
        "spark.sparkContext.addFile(url)\n",
        "df = spark.read.option(\"encoding\", \"UTF-8\").csv(SparkFiles.get(\"\"), sep=\"\\t\", header=True, inferSchema=True)\n",
        "df.show()"
      ],
      "execution_count": 5,
      "outputs": [
        {
          "output_type": "stream",
          "text": [
            "+-----------+-----------+--------------+----------+--------------+--------------------+--------------------+-----------+-------------+-----------+----+-----------------+--------------------+--------------------+-----------+\n",
            "|marketplace|customer_id|     review_id|product_id|product_parent|       product_title|    product_category|star_rating|helpful_votes|total_votes|vine|verified_purchase|     review_headline|         review_body|review_date|\n",
            "+-----------+-----------+--------------+----------+--------------+--------------------+--------------------+-----------+-------------+-----------+----+-----------------+--------------------+--------------------+-----------+\n",
            "|         FR|      14952|R32VYUWDIB5LKE|0552774294|     362925721|    The God Delusion|               Books|          5|            0|          0|   N|                Y|a propos de ce livre|je conseille fort...| 2013-02-13|\n",
            "|         FR|      14952|R3CCMP4EV6HAVL|B004GJXQ20|     268067011|A Game of Thrones...|Digital_Ebook_Pur...|          5|            0|          0|   N|                Y|                 wow|ce magnifique est...| 2014-08-03|\n",
            "|         FR|      17564|R14NAE6UGTVTA2|B00GIGGS6A|     256731097|      Huion H610 PRO|                  PC|          3|            1|          3|   N|                Y|      Ca fait le job|Je dirais qu'il a...| 2015-07-07|\n",
            "|         FR|      18940|R2E7QEWSC6EWFA|B00CW7KK9K|     977480037|Withings Pulse - ...|              Sports|          4|            0|          1|   N|                Y|Fidele a description|Je l'ai depuis qu...| 2014-06-16|\n",
            "|         FR|      20315|R26E6I47GQRYKR|B002L6SKIK|     827187473|          Prometheus|           Video DVD|          2|            3|          5|   N|                N|            décevant|je m'attendait à ...| 2013-06-10|\n",
            "|         FR|      20842|R1RJMTSNCKB9LP|B00004YLIU|     678427290|               Kid A|               Music|          2|            0|          0|   N|                Y|                 10'|Ne disait pas sur...| 2013-04-15|\n",
            "|         FR|      20913|R2P2XF84YELQBZ|B00AYHK7RU|     108403123|        The Next Day|               Music|          5|            0|          3|   N|                Y|        the next day|du bon bowie,tr&e...| 2013-06-07|\n",
            "|         FR|      21490| RJKULSX2Y5R07|B00CJ3V5UK|     252503117|G.I. Joe 2 : Cons...|           Video DVD|          5|            0|          0|   N|                Y|       tres bon film|très bon film bea...| 2014-11-07|\n",
            "|         FR|      24196|R3UYE0U7SQCI8Q|B000FUM0TE|      48021829|             Amistad|           Video DVD|          5|            2|          3|   N|                Y|           Excellent|Un sujet délicat ...| 2012-11-16|\n",
            "|         FR|      24196|R1TKJ7XFS3RDEB|B000UMXCTY|     181554537|The Collection (C...|               Music|          5|            0|          1|   N|                Y|       C'est parfait|Un coffret d'un d...| 2013-04-23|\n",
            "|         FR|      24196|R3S9JNS21QDBXP|B0044JV1K6|     386772628|Braddock - Missin...|           Video DVD|          5|            0|          2|   N|                Y|    Excellent achat.|Un grand classiqu...| 2013-08-02|\n",
            "|         FR|      24196|R2Y4O06QMOGHD0|2226249672|     753674225|Au revoir là-haut...|               Books|          5|            2|          3|   N|                Y|     Excellent achat|Livre offert pour...| 2013-10-03|\n",
            "|         FR|      24196|R3PS3P7G1ZT57W|B000A3IF8G|     757843869|The Essential Mic...|               Music|          5|            0|          0|   N|                Y|     Excellent achat|Un artiste inoubl...| 2014-08-21|\n",
            "|         FR|      24207|R1NFWFM2WWRWPM|B00B4VI8MQ|     351620851|Epic Adventures: ...|         Mobile_Apps|          5|            0|          0|   N|                Y|                jeux|Trop cool ce jeux...| 2014-01-31|\n",
            "|         FR|      24207|R3QRIH5CXCXMEL|B00CW6DAKC|      87169065|    Super Ferme Mini|         Mobile_Apps|          4|            4|          6|   N|                Y|             ajouter|Ajouter moi &agra...| 2014-07-29|\n",
            "|         FR|      24629| RBCSM1KTYH6FX|B0031ES8P6|     724566333|Ty - Ty40819 - Pe...|                Toys|          4|            0|          0|   N|                Y|           Très bien|Bonne idée de cad...| 2014-01-13|\n",
            "|         FR|      24844|R2BIWHFIS7X808|B007AR7OGE|     414300413|First lady of son...|               Music|          5|            3|          4|   N|                Y|               Great|Just great compli...| 2012-12-17|\n",
            "|         FR|      25935|R2VGNSD09UEW5T|B00XO12REY|     271191040|  The Monsanto Years|               Music|          1|            1|          9|   N|                Y|commentaire sur M...|Pas beaucoup de s...| 2015-07-21|\n",
            "|         FR|      26425| RTGC85CCO9EMU|B007ZMHBBM|     893659638|Checkerboard Loun...|           Video DVD|          5|            0|          0|   N|                Y|        Muddy Waters|Superbe session e...| 2012-11-22|\n",
            "|         FR|      26552|R128Q27ZKTLGJ1|0446310786|     994527755|To Kill a Mocking...|               Books|          5|            0|          0|   N|                Y|          Beautiful!|I know it's a cla...| 2015-01-19|\n",
            "+-----------+-----------+--------------+----------+--------------+--------------------+--------------------+-----------+-------------+-----------+----+-----------------+--------------------+--------------------+-----------+\n",
            "only showing top 20 rows\n",
            "\n"
          ],
          "name": "stdout"
        }
      ]
    },
    {
      "cell_type": "code",
      "metadata": {
        "id": "B0TESUDRY-90",
        "colab": {
          "base_uri": "https://localhost:8080/"
        },
        "outputId": "ee380b2a-314a-41c7-c41f-aa77f9f17666"
      },
      "source": [
        "# Create the customers_table DataFrame\n",
        "customers_df = df.groupby(\"customer_id\").agg({\"customer_id\":\"count\"}).withColumnRenamed(\"count(customer_id)\", \"customer_count\")\n",
        "\n",
        "customers_df.show()"
      ],
      "execution_count": 10,
      "outputs": [
        {
          "output_type": "stream",
          "text": [
            "+-----------+--------------+\n",
            "|customer_id|customer_count|\n",
            "+-----------+--------------+\n",
            "|      26425|             1|\n",
            "|      29814|             1|\n",
            "|      78440|             2|\n",
            "|      90550|             1|\n",
            "|      99817|             1|\n",
            "|    2846240|             1|\n",
            "|    2966808|             1|\n",
            "|    3323007|             1|\n",
            "|    3458442|             1|\n",
            "|    3497479|             1|\n",
            "|    3498767|             1|\n",
            "|    3511947|             1|\n",
            "|    3945593|             1|\n",
            "|    4049807|             1|\n",
            "|    4214333|             1|\n",
            "|    4262489|             2|\n",
            "|    4423902|             1|\n",
            "|    4660180|             2|\n",
            "|    4667529|             3|\n",
            "|    4838481|             2|\n",
            "+-----------+--------------+\n",
            "only showing top 20 rows\n",
            "\n"
          ],
          "name": "stdout"
        }
      ]
    },
    {
      "cell_type": "code",
      "metadata": {
        "id": "4FwXA6UvY-96",
        "colab": {
          "base_uri": "https://localhost:8080/"
        },
        "outputId": "5b36476b-462c-426b-b03c-040c149cea8e"
      },
      "source": [
        "# Create the products_table DataFrame and drop duplicates. \n",
        "products_df = df.select([\"product_id\",\"product_title\"]).drop_duplicates([\"product_id\"])\n",
        "\n",
        "products_df.show()"
      ],
      "execution_count": 12,
      "outputs": [
        {
          "output_type": "stream",
          "text": [
            "+----------+--------------------+\n",
            "|product_id|       product_title|\n",
            "+----------+--------------------+\n",
            "|0060557818| Neverwhere: A Novel|\n",
            "|0099428385|I Don't Know How ...|\n",
            "|0099759918|      The Bluest Eye|\n",
            "|0141038225|Antifragile: Thin...|\n",
            "|0141340134|The Lunar Chronic...|\n",
            "|0142414999|Let It Snow: Thre...|\n",
            "|0143105426|Pride and Prejudi...|\n",
            "|0143118439|Eat Pray Love: On...|\n",
            "|0224098098|Bridget Jones: Ma...|\n",
            "|0241951461|My Family and Oth...|\n",
            "|0349139865|Orange Is the New...|\n",
            "|0415733545|Criminal Procedur...|\n",
            "|0553820249|      Shutter Island|\n",
            "|0701168889|How To Be A Domes...|\n",
            "|0711986746|Freddie Mercury: ...|\n",
            "|0743200799|Failure Is Not an...|\n",
            "|0785153373|Art of Marvel Stu...|\n",
            "|0857201700|           The Power|\n",
            "|0865478570|Is That a Fish in...|\n",
            "|0954405633|Mediation and Arb...|\n",
            "+----------+--------------------+\n",
            "only showing top 20 rows\n",
            "\n"
          ],
          "name": "stdout"
        }
      ]
    },
    {
      "cell_type": "code",
      "metadata": {
        "id": "MkqyCuNQY-9-",
        "colab": {
          "base_uri": "https://localhost:8080/"
        },
        "outputId": "0379e04a-30b1-4068-89e0-d879df1cfca4"
      },
      "source": [
        "# Create the review_id_table DataFrame. \n",
        "# Convert the 'review_date' column to a date datatype with to_date(\"review_date\", 'yyyy-MM-dd').alias(\"review_date\")\n",
        "review_id_df = df.select([\"review_id\", \"customer_id\", \"product_id\", \"product_parent\", to_date(\"review_date\", 'yyyy-MM-dd').alias(\"review_date\")])\n",
        "\n",
        "review_id_df.show()"
      ],
      "execution_count": 13,
      "outputs": [
        {
          "output_type": "stream",
          "text": [
            "+--------------+-----------+----------+--------------+-----------+\n",
            "|     review_id|customer_id|product_id|product_parent|review_date|\n",
            "+--------------+-----------+----------+--------------+-----------+\n",
            "|R32VYUWDIB5LKE|      14952|0552774294|     362925721| 2013-02-13|\n",
            "|R3CCMP4EV6HAVL|      14952|B004GJXQ20|     268067011| 2014-08-03|\n",
            "|R14NAE6UGTVTA2|      17564|B00GIGGS6A|     256731097| 2015-07-07|\n",
            "|R2E7QEWSC6EWFA|      18940|B00CW7KK9K|     977480037| 2014-06-16|\n",
            "|R26E6I47GQRYKR|      20315|B002L6SKIK|     827187473| 2013-06-10|\n",
            "|R1RJMTSNCKB9LP|      20842|B00004YLIU|     678427290| 2013-04-15|\n",
            "|R2P2XF84YELQBZ|      20913|B00AYHK7RU|     108403123| 2013-06-07|\n",
            "| RJKULSX2Y5R07|      21490|B00CJ3V5UK|     252503117| 2014-11-07|\n",
            "|R3UYE0U7SQCI8Q|      24196|B000FUM0TE|      48021829| 2012-11-16|\n",
            "|R1TKJ7XFS3RDEB|      24196|B000UMXCTY|     181554537| 2013-04-23|\n",
            "|R3S9JNS21QDBXP|      24196|B0044JV1K6|     386772628| 2013-08-02|\n",
            "|R2Y4O06QMOGHD0|      24196|2226249672|     753674225| 2013-10-03|\n",
            "|R3PS3P7G1ZT57W|      24196|B000A3IF8G|     757843869| 2014-08-21|\n",
            "|R1NFWFM2WWRWPM|      24207|B00B4VI8MQ|     351620851| 2014-01-31|\n",
            "|R3QRIH5CXCXMEL|      24207|B00CW6DAKC|      87169065| 2014-07-29|\n",
            "| RBCSM1KTYH6FX|      24629|B0031ES8P6|     724566333| 2014-01-13|\n",
            "|R2BIWHFIS7X808|      24844|B007AR7OGE|     414300413| 2012-12-17|\n",
            "|R2VGNSD09UEW5T|      25935|B00XO12REY|     271191040| 2015-07-21|\n",
            "| RTGC85CCO9EMU|      26425|B007ZMHBBM|     893659638| 2012-11-22|\n",
            "|R128Q27ZKTLGJ1|      26552|0446310786|     994527755| 2015-01-19|\n",
            "+--------------+-----------+----------+--------------+-----------+\n",
            "only showing top 20 rows\n",
            "\n"
          ],
          "name": "stdout"
        }
      ]
    },
    {
      "cell_type": "code",
      "metadata": {
        "id": "lzMmkdKmY--D",
        "colab": {
          "base_uri": "https://localhost:8080/"
        },
        "outputId": "c6ed1075-9b8b-498d-bb7d-dd40f7cc33dd"
      },
      "source": [
        "# Create the vine_table. DataFrame\n",
        "vine_df = df.select([\"review_id\", \"star_rating\", \"helpful_votes\", \"total_votes\", \"vine\", \"verified_purchase\"])\n",
        "\n",
        "vine_df.show()"
      ],
      "execution_count": 14,
      "outputs": [
        {
          "output_type": "stream",
          "text": [
            "+--------------+-----------+-------------+-----------+----+-----------------+\n",
            "|     review_id|star_rating|helpful_votes|total_votes|vine|verified_purchase|\n",
            "+--------------+-----------+-------------+-----------+----+-----------------+\n",
            "|R32VYUWDIB5LKE|          5|            0|          0|   N|                Y|\n",
            "|R3CCMP4EV6HAVL|          5|            0|          0|   N|                Y|\n",
            "|R14NAE6UGTVTA2|          3|            1|          3|   N|                Y|\n",
            "|R2E7QEWSC6EWFA|          4|            0|          1|   N|                Y|\n",
            "|R26E6I47GQRYKR|          2|            3|          5|   N|                N|\n",
            "|R1RJMTSNCKB9LP|          2|            0|          0|   N|                Y|\n",
            "|R2P2XF84YELQBZ|          5|            0|          3|   N|                Y|\n",
            "| RJKULSX2Y5R07|          5|            0|          0|   N|                Y|\n",
            "|R3UYE0U7SQCI8Q|          5|            2|          3|   N|                Y|\n",
            "|R1TKJ7XFS3RDEB|          5|            0|          1|   N|                Y|\n",
            "|R3S9JNS21QDBXP|          5|            0|          2|   N|                Y|\n",
            "|R2Y4O06QMOGHD0|          5|            2|          3|   N|                Y|\n",
            "|R3PS3P7G1ZT57W|          5|            0|          0|   N|                Y|\n",
            "|R1NFWFM2WWRWPM|          5|            0|          0|   N|                Y|\n",
            "|R3QRIH5CXCXMEL|          4|            4|          6|   N|                Y|\n",
            "| RBCSM1KTYH6FX|          4|            0|          0|   N|                Y|\n",
            "|R2BIWHFIS7X808|          5|            3|          4|   N|                Y|\n",
            "|R2VGNSD09UEW5T|          1|            1|          9|   N|                Y|\n",
            "| RTGC85CCO9EMU|          5|            0|          0|   N|                Y|\n",
            "|R128Q27ZKTLGJ1|          5|            0|          0|   N|                Y|\n",
            "+--------------+-----------+-------------+-----------+----+-----------------+\n",
            "only showing top 20 rows\n",
            "\n"
          ],
          "name": "stdout"
        }
      ]
    },
    {
      "cell_type": "markdown",
      "metadata": {
        "id": "jITZhLkmY--J"
      },
      "source": [
        "### Connect to the AWS RDS instance and write each DataFrame to its table. "
      ]
    },
    {
      "cell_type": "code",
      "metadata": {
        "id": "7jiUvs1aY--L",
        "colab": {
          "base_uri": "https://localhost:8080/"
        },
        "outputId": "0766cd7a-115f-4848-b6b1-b61525c3f38b"
      },
      "source": [
        "# Store environmental variable\n",
        "from getpass import getpass\n",
        "password = getpass('Enter database password')\n",
        "# Configure settings for RDS\n",
        "mode = \"append\"\n",
        "jdbc_url=\"jdbc:postgresql://dataviz2.c5j5pqhtkgck.us-east-2.rds.amazonaws.com:5432/amazon_reviews\"\n",
        "config = {\"user\":\"postgres\", \n",
        "          \"password\": password, \n",
        "          \"driver\":\"org.postgresql.Driver\"}"
      ],
      "execution_count": 17,
      "outputs": [
        {
          "output_type": "stream",
          "text": [
            "Enter database password··········\n"
          ],
          "name": "stdout"
        }
      ]
    },
    {
      "cell_type": "code",
      "metadata": {
        "id": "T2zgZ-aKY--Q"
      },
      "source": [
        "# Write review_id_df to table in RDS\n",
        "review_id_df.write.jdbc(url=jdbc_url, table='review_id_table', mode=mode, properties=config)"
      ],
      "execution_count": 18,
      "outputs": []
    },
    {
      "cell_type": "code",
      "metadata": {
        "id": "1m3yzn-LY--U"
      },
      "source": [
        "# Write products_df to table in RDS\n",
        "# about 3 min\n",
        "products_df.write.jdbc(url=jdbc_url, table='products_table', mode=mode, properties=config)"
      ],
      "execution_count": 19,
      "outputs": []
    },
    {
      "cell_type": "code",
      "metadata": {
        "id": "KbXri15fY--Z"
      },
      "source": [
        "# Write customers_df to table in RDS\n",
        "# 5 min 14 s\n",
        "customers_df.write.jdbc(url=jdbc_url, table='customers_table', mode=mode, properties=config)"
      ],
      "execution_count": 20,
      "outputs": []
    },
    {
      "cell_type": "code",
      "metadata": {
        "id": "XdQknSHLY--e"
      },
      "source": [
        "# Write vine_df to table in RDS\n",
        "# 11 minutes\n",
        "vine_df.write.jdbc(url=jdbc_url, table='vine_table', mode=mode, properties=config)"
      ],
      "execution_count": 21,
      "outputs": []
    },
    {
      "cell_type": "code",
      "metadata": {
        "id": "Exuo6ebUsCqW"
      },
      "source": [
        ""
      ],
      "execution_count": null,
      "outputs": []
    }
  ]
}