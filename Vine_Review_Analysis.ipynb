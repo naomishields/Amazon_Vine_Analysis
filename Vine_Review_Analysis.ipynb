{
  "nbformat": 4,
  "nbformat_minor": 0,
  "metadata": {
    "colab": {
      "name": "Vine_Review_Analysis.ipynb",
      "provenance": []
    },
    "kernelspec": {
      "name": "python3",
      "display_name": "Python 3"
    },
    "language_info": {
      "name": "python"
    }
  },
  "cells": [
    {
      "cell_type": "code",
      "metadata": {
        "colab": {
          "base_uri": "https://localhost:8080/"
        },
        "id": "d92Rydf-UQzg",
        "outputId": "5f067791-184f-4500-b509-715b7d11a3fa"
      },
      "source": [
        "import os\n",
        "# Find the latest version of spark 3.0  from http://www.apache.org/dist/spark/ and enter as the spark version\n",
        "# For example:\n",
        "# spark_version = 'spark-3.0.3'\n",
        "spark_version = 'spark-3.0.3'\n",
        "os.environ['SPARK_VERSION']=spark_version\n",
        "\n",
        "# Install Spark and Java\n",
        "!apt-get update\n",
        "!apt-get install openjdk-11-jdk-headless -qq > /dev/null\n",
        "!wget -q http://www.apache.org/dist/spark/$SPARK_VERSION/$SPARK_VERSION-bin-hadoop2.7.tgz\n",
        "!tar xf $SPARK_VERSION-bin-hadoop2.7.tgz\n",
        "!pip install -q findspark\n",
        "\n",
        "# Set Environment Variables\n",
        "import os\n",
        "os.environ[\"JAVA_HOME\"] = \"/usr/lib/jvm/java-11-openjdk-amd64\"\n",
        "os.environ[\"SPARK_HOME\"] = f\"/content/{spark_version}-bin-hadoop2.7\"\n",
        "\n",
        "# Start a SparkSession\n",
        "import findspark\n",
        "findspark.init()"
      ],
      "execution_count": 1,
      "outputs": [
        {
          "output_type": "stream",
          "text": [
            "Get:1 https://cloud.r-project.org/bin/linux/ubuntu bionic-cran40/ InRelease [3,626 B]\n",
            "Ign:2 https://developer.download.nvidia.com/compute/cuda/repos/ubuntu1804/x86_64  InRelease\n",
            "Get:3 http://security.ubuntu.com/ubuntu bionic-security InRelease [88.7 kB]\n",
            "Ign:4 https://developer.download.nvidia.com/compute/machine-learning/repos/ubuntu1804/x86_64  InRelease\n",
            "Hit:5 http://archive.ubuntu.com/ubuntu bionic InRelease\n",
            "Get:6 https://developer.download.nvidia.com/compute/cuda/repos/ubuntu1804/x86_64  Release [697 B]\n",
            "Get:7 http://ppa.launchpad.net/c2d4u.team/c2d4u4.0+/ubuntu bionic InRelease [15.9 kB]\n",
            "Hit:8 https://developer.download.nvidia.com/compute/machine-learning/repos/ubuntu1804/x86_64  Release\n",
            "Get:9 https://developer.download.nvidia.com/compute/cuda/repos/ubuntu1804/x86_64  Release.gpg [836 B]\n",
            "Get:10 https://cloud.r-project.org/bin/linux/ubuntu bionic-cran40/ Packages [62.9 kB]\n",
            "Get:11 http://archive.ubuntu.com/ubuntu bionic-updates InRelease [88.7 kB]\n",
            "Hit:12 http://ppa.launchpad.net/cran/libgit2/ubuntu bionic InRelease\n",
            "Get:14 http://archive.ubuntu.com/ubuntu bionic-backports InRelease [74.6 kB]\n",
            "Get:15 http://ppa.launchpad.net/deadsnakes/ppa/ubuntu bionic InRelease [15.9 kB]\n",
            "Ign:16 https://developer.download.nvidia.com/compute/cuda/repos/ubuntu1804/x86_64  Packages\n",
            "Get:16 https://developer.download.nvidia.com/compute/cuda/repos/ubuntu1804/x86_64  Packages [695 kB]\n",
            "Get:17 http://ppa.launchpad.net/graphics-drivers/ppa/ubuntu bionic InRelease [21.3 kB]\n",
            "Get:18 http://security.ubuntu.com/ubuntu bionic-security/restricted amd64 Packages [510 kB]\n",
            "Get:19 http://ppa.launchpad.net/c2d4u.team/c2d4u4.0+/ubuntu bionic/main Sources [1,786 kB]\n",
            "Get:20 http://archive.ubuntu.com/ubuntu bionic-updates/universe amd64 Packages [2,195 kB]\n",
            "Get:21 http://security.ubuntu.com/ubuntu bionic-security/universe amd64 Packages [1,420 kB]\n",
            "Get:22 http://security.ubuntu.com/ubuntu bionic-security/multiverse amd64 Packages [26.7 kB]\n",
            "Get:23 http://security.ubuntu.com/ubuntu bionic-security/main amd64 Packages [2,263 kB]\n",
            "Get:24 http://archive.ubuntu.com/ubuntu bionic-updates/main amd64 Packages [2,698 kB]\n",
            "Get:25 http://archive.ubuntu.com/ubuntu bionic-updates/multiverse amd64 Packages [39.4 kB]\n",
            "Get:26 http://archive.ubuntu.com/ubuntu bionic-updates/restricted amd64 Packages [544 kB]\n",
            "Get:27 http://ppa.launchpad.net/c2d4u.team/c2d4u4.0+/ubuntu bionic/main amd64 Packages [914 kB]\n",
            "Get:28 http://ppa.launchpad.net/deadsnakes/ppa/ubuntu bionic/main amd64 Packages [40.9 kB]\n",
            "Get:29 http://ppa.launchpad.net/graphics-drivers/ppa/ubuntu bionic/main amd64 Packages [44.1 kB]\n",
            "Fetched 13.5 MB in 8s (1,626 kB/s)\n",
            "Reading package lists... Done\n"
          ],
          "name": "stdout"
        }
      ]
    },
    {
      "cell_type": "markdown",
      "metadata": {
        "id": "bonFrA5uY8Av"
      },
      "source": [
        "### Loading Reviews Dataframe"
      ]
    },
    {
      "cell_type": "code",
      "metadata": {
        "id": "gCB_E9OqZJI8"
      },
      "source": [
        "from pyspark.sql import SparkSession\n",
        "spark = SparkSession.builder.appName(\"Vine-Review\").config(\"spark.driver.extraClassPath\",\"/content/postgresql-42.2.16.jar\").getOrCreate()"
      ],
      "execution_count": 3,
      "outputs": []
    },
    {
      "cell_type": "code",
      "metadata": {
        "colab": {
          "base_uri": "https://localhost:8080/"
        },
        "id": "Les1OTuGZCSy",
        "outputId": "3a8bcc31-a74f-4adc-e721-267f543dd5f9"
      },
      "source": [
        "from pyspark import SparkFiles\n",
        "url = \"https://s3.amazonaws.com/amazon-reviews-pds/tsv/amazon_reviews_multilingual_FR_v1_00.tsv.gz\"\n",
        "spark.sparkContext.addFile(url)\n",
        "df = spark.read.option(\"encoding\", \"UTF-8\").csv(SparkFiles.get(\"\"), sep=\"\\t\", header=True, inferSchema=True)\n",
        "df.show()"
      ],
      "execution_count": 4,
      "outputs": [
        {
          "output_type": "stream",
          "text": [
            "+-----------+-----------+--------------+----------+--------------+--------------------+--------------------+-----------+-------------+-----------+----+-----------------+--------------------+--------------------+-----------+\n",
            "|marketplace|customer_id|     review_id|product_id|product_parent|       product_title|    product_category|star_rating|helpful_votes|total_votes|vine|verified_purchase|     review_headline|         review_body|review_date|\n",
            "+-----------+-----------+--------------+----------+--------------+--------------------+--------------------+-----------+-------------+-----------+----+-----------------+--------------------+--------------------+-----------+\n",
            "|         FR|      14952|R32VYUWDIB5LKE|0552774294|     362925721|    The God Delusion|               Books|          5|            0|          0|   N|                Y|a propos de ce livre|je conseille fort...| 2013-02-13|\n",
            "|         FR|      14952|R3CCMP4EV6HAVL|B004GJXQ20|     268067011|A Game of Thrones...|Digital_Ebook_Pur...|          5|            0|          0|   N|                Y|                 wow|ce magnifique est...| 2014-08-03|\n",
            "|         FR|      17564|R14NAE6UGTVTA2|B00GIGGS6A|     256731097|      Huion H610 PRO|                  PC|          3|            1|          3|   N|                Y|      Ca fait le job|Je dirais qu'il a...| 2015-07-07|\n",
            "|         FR|      18940|R2E7QEWSC6EWFA|B00CW7KK9K|     977480037|Withings Pulse - ...|              Sports|          4|            0|          1|   N|                Y|Fidele a description|Je l'ai depuis qu...| 2014-06-16|\n",
            "|         FR|      20315|R26E6I47GQRYKR|B002L6SKIK|     827187473|          Prometheus|           Video DVD|          2|            3|          5|   N|                N|            décevant|je m'attendait à ...| 2013-06-10|\n",
            "|         FR|      20842|R1RJMTSNCKB9LP|B00004YLIU|     678427290|               Kid A|               Music|          2|            0|          0|   N|                Y|                 10'|Ne disait pas sur...| 2013-04-15|\n",
            "|         FR|      20913|R2P2XF84YELQBZ|B00AYHK7RU|     108403123|        The Next Day|               Music|          5|            0|          3|   N|                Y|        the next day|du bon bowie,tr&e...| 2013-06-07|\n",
            "|         FR|      21490| RJKULSX2Y5R07|B00CJ3V5UK|     252503117|G.I. Joe 2 : Cons...|           Video DVD|          5|            0|          0|   N|                Y|       tres bon film|très bon film bea...| 2014-11-07|\n",
            "|         FR|      24196|R3UYE0U7SQCI8Q|B000FUM0TE|      48021829|             Amistad|           Video DVD|          5|            2|          3|   N|                Y|           Excellent|Un sujet délicat ...| 2012-11-16|\n",
            "|         FR|      24196|R1TKJ7XFS3RDEB|B000UMXCTY|     181554537|The Collection (C...|               Music|          5|            0|          1|   N|                Y|       C'est parfait|Un coffret d'un d...| 2013-04-23|\n",
            "|         FR|      24196|R3S9JNS21QDBXP|B0044JV1K6|     386772628|Braddock - Missin...|           Video DVD|          5|            0|          2|   N|                Y|    Excellent achat.|Un grand classiqu...| 2013-08-02|\n",
            "|         FR|      24196|R2Y4O06QMOGHD0|2226249672|     753674225|Au revoir là-haut...|               Books|          5|            2|          3|   N|                Y|     Excellent achat|Livre offert pour...| 2013-10-03|\n",
            "|         FR|      24196|R3PS3P7G1ZT57W|B000A3IF8G|     757843869|The Essential Mic...|               Music|          5|            0|          0|   N|                Y|     Excellent achat|Un artiste inoubl...| 2014-08-21|\n",
            "|         FR|      24207|R1NFWFM2WWRWPM|B00B4VI8MQ|     351620851|Epic Adventures: ...|         Mobile_Apps|          5|            0|          0|   N|                Y|                jeux|Trop cool ce jeux...| 2014-01-31|\n",
            "|         FR|      24207|R3QRIH5CXCXMEL|B00CW6DAKC|      87169065|    Super Ferme Mini|         Mobile_Apps|          4|            4|          6|   N|                Y|             ajouter|Ajouter moi &agra...| 2014-07-29|\n",
            "|         FR|      24629| RBCSM1KTYH6FX|B0031ES8P6|     724566333|Ty - Ty40819 - Pe...|                Toys|          4|            0|          0|   N|                Y|           Très bien|Bonne idée de cad...| 2014-01-13|\n",
            "|         FR|      24844|R2BIWHFIS7X808|B007AR7OGE|     414300413|First lady of son...|               Music|          5|            3|          4|   N|                Y|               Great|Just great compli...| 2012-12-17|\n",
            "|         FR|      25935|R2VGNSD09UEW5T|B00XO12REY|     271191040|  The Monsanto Years|               Music|          1|            1|          9|   N|                Y|commentaire sur M...|Pas beaucoup de s...| 2015-07-21|\n",
            "|         FR|      26425| RTGC85CCO9EMU|B007ZMHBBM|     893659638|Checkerboard Loun...|           Video DVD|          5|            0|          0|   N|                Y|        Muddy Waters|Superbe session e...| 2012-11-22|\n",
            "|         FR|      26552|R128Q27ZKTLGJ1|0446310786|     994527755|To Kill a Mocking...|               Books|          5|            0|          0|   N|                Y|          Beautiful!|I know it's a cla...| 2015-01-19|\n",
            "+-----------+-----------+--------------+----------+--------------+--------------------+--------------------+-----------+-------------+-----------+----+-----------------+--------------------+--------------------+-----------+\n",
            "only showing top 20 rows\n",
            "\n"
          ],
          "name": "stdout"
        }
      ]
    },
    {
      "cell_type": "code",
      "metadata": {
        "colab": {
          "base_uri": "https://localhost:8080/"
        },
        "id": "zbTZwRFxZaH9",
        "outputId": "adf6636a-a5a5-4bf0-c34c-2145f91f070b"
      },
      "source": [
        "# Create the vine_table DataFrame\n",
        "vine_df = df.select([\"review_id\", \"star_rating\", \"helpful_votes\", \"total_votes\", \"vine\", \"verified_purchase\"])\n",
        "\n",
        "vine_df.show()"
      ],
      "execution_count": 5,
      "outputs": [
        {
          "output_type": "stream",
          "text": [
            "+--------------+-----------+-------------+-----------+----+-----------------+\n",
            "|     review_id|star_rating|helpful_votes|total_votes|vine|verified_purchase|\n",
            "+--------------+-----------+-------------+-----------+----+-----------------+\n",
            "|R32VYUWDIB5LKE|          5|            0|          0|   N|                Y|\n",
            "|R3CCMP4EV6HAVL|          5|            0|          0|   N|                Y|\n",
            "|R14NAE6UGTVTA2|          3|            1|          3|   N|                Y|\n",
            "|R2E7QEWSC6EWFA|          4|            0|          1|   N|                Y|\n",
            "|R26E6I47GQRYKR|          2|            3|          5|   N|                N|\n",
            "|R1RJMTSNCKB9LP|          2|            0|          0|   N|                Y|\n",
            "|R2P2XF84YELQBZ|          5|            0|          3|   N|                Y|\n",
            "| RJKULSX2Y5R07|          5|            0|          0|   N|                Y|\n",
            "|R3UYE0U7SQCI8Q|          5|            2|          3|   N|                Y|\n",
            "|R1TKJ7XFS3RDEB|          5|            0|          1|   N|                Y|\n",
            "|R3S9JNS21QDBXP|          5|            0|          2|   N|                Y|\n",
            "|R2Y4O06QMOGHD0|          5|            2|          3|   N|                Y|\n",
            "|R3PS3P7G1ZT57W|          5|            0|          0|   N|                Y|\n",
            "|R1NFWFM2WWRWPM|          5|            0|          0|   N|                Y|\n",
            "|R3QRIH5CXCXMEL|          4|            4|          6|   N|                Y|\n",
            "| RBCSM1KTYH6FX|          4|            0|          0|   N|                Y|\n",
            "|R2BIWHFIS7X808|          5|            3|          4|   N|                Y|\n",
            "|R2VGNSD09UEW5T|          1|            1|          9|   N|                Y|\n",
            "| RTGC85CCO9EMU|          5|            0|          0|   N|                Y|\n",
            "|R128Q27ZKTLGJ1|          5|            0|          0|   N|                Y|\n",
            "+--------------+-----------+-------------+-----------+----+-----------------+\n",
            "only showing top 20 rows\n",
            "\n"
          ],
          "name": "stdout"
        }
      ]
    },
    {
      "cell_type": "markdown",
      "metadata": {
        "id": "W37eI2jjaG7S"
      },
      "source": [
        "### Creating Dataframes for Comparison"
      ]
    },
    {
      "cell_type": "code",
      "metadata": {
        "id": "kQX4djmtZob8"
      },
      "source": [
        "# creating filtered dataframe\n",
        "new_vine_df = vine_df.filter(\"total_votes >= 20\")"
      ],
      "execution_count": 6,
      "outputs": []
    },
    {
      "cell_type": "code",
      "metadata": {
        "colab": {
          "base_uri": "https://localhost:8080/"
        },
        "id": "KSNKR5Y2aksr",
        "outputId": "f73c5fe7-0b07-49f6-cb9b-691e58a32c2a"
      },
      "source": [
        "# creating helpful votes dataframe\n",
        "helpful_votes_df = new_vine_df.filter(new_vine_df[\"helpful_votes\"]/new_vine_df[\"total_votes\"]>= 0.5)\n",
        "helpful_votes_df.show()"
      ],
      "execution_count": 7,
      "outputs": [
        {
          "output_type": "stream",
          "text": [
            "+--------------+-----------+-------------+-----------+----+-----------------+\n",
            "|     review_id|star_rating|helpful_votes|total_votes|vine|verified_purchase|\n",
            "+--------------+-----------+-------------+-----------+----+-----------------+\n",
            "|R2LX6LJ7BA92OO|          1|           21|         27|   N|                Y|\n",
            "|R2612UZ2GU2K29|          5|           25|         32|   N|                Y|\n",
            "|R28X8YI8B00C6S|          4|           52|         63|   N|                Y|\n",
            "|R3O3RDGDHHINF2|          5|           41|         53|   N|                Y|\n",
            "|R1FSDCDV0XV3X6|          4|           27|         33|   N|                Y|\n",
            "|R3QBW3JMQ4WOOW|          5|           14|         20|   N|                Y|\n",
            "| RRZXAHEVTT2HC|          5|           69|         92|   N|                Y|\n",
            "|R3AUV7LA2MZTEO|          5|           16|         21|   N|                N|\n",
            "| R3NOR8QP5W657|          1|           15|         29|   N|                N|\n",
            "|R1XM8IQUDFKBQZ|          2|           19|         27|   N|                N|\n",
            "| RZR9JFL71VIHX|          5|           53|         62|   N|                N|\n",
            "|R2OTWD8ZTG53UV|          1|           17|         20|   N|                N|\n",
            "|R1R116HFXJ3X2O|          1|           15|         20|   N|                Y|\n",
            "| RY8YALKOKA9HZ|          5|           20|         26|   N|                N|\n",
            "|R2JYNRZIJZHTVX|          5|           23|         29|   N|                N|\n",
            "|R3EPKZNBITP1F1|          1|           13|         25|   N|                Y|\n",
            "|R3HWCBJM517OB0|          1|           41|         44|   N|                Y|\n",
            "|R34MJKDJLME3AA|          4|           21|         36|   N|                Y|\n",
            "|R2NTMI1V37QS7O|          5|           21|         27|   N|                N|\n",
            "|R288U1K62Z8EVE|          5|           30|         36|   N|                Y|\n",
            "+--------------+-----------+-------------+-----------+----+-----------------+\n",
            "only showing top 20 rows\n",
            "\n"
          ],
          "name": "stdout"
        }
      ]
    },
    {
      "cell_type": "code",
      "metadata": {
        "colab": {
          "base_uri": "https://localhost:8080/"
        },
        "id": "zUCKezFxasaq",
        "outputId": "8cf0934b-8323-4bc5-ea06-59f155feaf0b"
      },
      "source": [
        "# creating dataframe of helpful reviews from vine program users\n",
        "vine_helpful_df = helpful_votes_df.filter(helpful_votes_df[\"vine\"] == 'Y')\n",
        "vine_helpful_df.show()"
      ],
      "execution_count": 9,
      "outputs": [
        {
          "output_type": "stream",
          "text": [
            "+--------------+-----------+-------------+-----------+----+-----------------+\n",
            "|     review_id|star_rating|helpful_votes|total_votes|vine|verified_purchase|\n",
            "+--------------+-----------+-------------+-----------+----+-----------------+\n",
            "|R22SUWPP3KRZT6|          3|           21|         26|   Y|                N|\n",
            "|R3O1MAY03ZF3MP|          3|           19|         20|   Y|                N|\n",
            "|R30LQPCSI3ELHN|          5|           18|         23|   Y|                N|\n",
            "|R3QIS7D8004AD2|          3|           76|         80|   Y|                N|\n",
            "|R3R6CDRZU5U2XW|          4|           41|         47|   Y|                N|\n",
            "|R16J9CTJQ41IC2|          5|           18|         22|   Y|                N|\n",
            "| RJNGHTZD3NT6F|          3|           30|         35|   Y|                N|\n",
            "|R1QVLVW5QS39ZF|          4|           21|         25|   Y|                N|\n",
            "| R4SMY6Y2J9897|          5|           24|         28|   Y|                N|\n",
            "|R1JKVISEGW1GXV|          5|           37|         41|   Y|                N|\n",
            "|R1ZQ5RKLXUO558|          4|           39|         45|   Y|                N|\n",
            "| R7651GBYAFMDM|          4|           68|         68|   Y|                N|\n",
            "|R355429CV7ZLK5|          5|           25|         27|   Y|                N|\n",
            "|R1G6N679O6URRH|          5|           25|         27|   Y|                N|\n",
            "|R2FZCXWE5YA9U3|          5|           36|         40|   Y|                N|\n",
            "|R1W8PAF1O6ZUSW|          3|           79|         87|   Y|                N|\n",
            "|R3AHH1QHTK6XTN|          2|           13|         24|   Y|                N|\n",
            "|R2R1E8TSVS8XSP|          5|          111|        119|   Y|                N|\n",
            "|R354QNYTK5J21P|          5|           24|         26|   Y|                N|\n",
            "+--------------+-----------+-------------+-----------+----+-----------------+\n",
            "\n"
          ],
          "name": "stdout"
        }
      ]
    },
    {
      "cell_type": "code",
      "metadata": {
        "colab": {
          "base_uri": "https://localhost:8080/"
        },
        "id": "cpvE_scRbmi-",
        "outputId": "5f2d954a-1a07-4ca8-f252-c8b613b405bc"
      },
      "source": [
        "# creating dataframe of helpful reviews from non-vine program users\n",
        "non_vine_helpful_df = helpful_votes_df.filter(helpful_votes_df[\"vine\"] == 'N')\n",
        "non_vine_helpful_df.show()"
      ],
      "execution_count": 10,
      "outputs": [
        {
          "output_type": "stream",
          "text": [
            "+--------------+-----------+-------------+-----------+----+-----------------+\n",
            "|     review_id|star_rating|helpful_votes|total_votes|vine|verified_purchase|\n",
            "+--------------+-----------+-------------+-----------+----+-----------------+\n",
            "|R2LX6LJ7BA92OO|          1|           21|         27|   N|                Y|\n",
            "|R2612UZ2GU2K29|          5|           25|         32|   N|                Y|\n",
            "|R28X8YI8B00C6S|          4|           52|         63|   N|                Y|\n",
            "|R3O3RDGDHHINF2|          5|           41|         53|   N|                Y|\n",
            "|R1FSDCDV0XV3X6|          4|           27|         33|   N|                Y|\n",
            "|R3QBW3JMQ4WOOW|          5|           14|         20|   N|                Y|\n",
            "| RRZXAHEVTT2HC|          5|           69|         92|   N|                Y|\n",
            "|R3AUV7LA2MZTEO|          5|           16|         21|   N|                N|\n",
            "| R3NOR8QP5W657|          1|           15|         29|   N|                N|\n",
            "|R1XM8IQUDFKBQZ|          2|           19|         27|   N|                N|\n",
            "| RZR9JFL71VIHX|          5|           53|         62|   N|                N|\n",
            "|R2OTWD8ZTG53UV|          1|           17|         20|   N|                N|\n",
            "|R1R116HFXJ3X2O|          1|           15|         20|   N|                Y|\n",
            "| RY8YALKOKA9HZ|          5|           20|         26|   N|                N|\n",
            "|R2JYNRZIJZHTVX|          5|           23|         29|   N|                N|\n",
            "|R3EPKZNBITP1F1|          1|           13|         25|   N|                Y|\n",
            "|R3HWCBJM517OB0|          1|           41|         44|   N|                Y|\n",
            "|R34MJKDJLME3AA|          4|           21|         36|   N|                Y|\n",
            "|R2NTMI1V37QS7O|          5|           21|         27|   N|                N|\n",
            "|R288U1K62Z8EVE|          5|           30|         36|   N|                Y|\n",
            "+--------------+-----------+-------------+-----------+----+-----------------+\n",
            "only showing top 20 rows\n",
            "\n"
          ],
          "name": "stdout"
        }
      ]
    },
    {
      "cell_type": "markdown",
      "metadata": {
        "id": "ip2VOk08cBOj"
      },
      "source": [
        "### Analysis of Paid (Vine) Users"
      ]
    },
    {
      "cell_type": "code",
      "metadata": {
        "colab": {
          "base_uri": "https://localhost:8080/"
        },
        "id": "n0ovkBJtb1kL",
        "outputId": "d33ff310-ca15-4c0b-9a8f-258a6b6773c6"
      },
      "source": [
        "# total number of reviews\n",
        "vine_total = vine_helpful_df.count()\n",
        "vine_total"
      ],
      "execution_count": 14,
      "outputs": [
        {
          "output_type": "execute_result",
          "data": {
            "text/plain": [
              "19"
            ]
          },
          "metadata": {
            "tags": []
          },
          "execution_count": 14
        }
      ]
    },
    {
      "cell_type": "code",
      "metadata": {
        "colab": {
          "base_uri": "https://localhost:8080/"
        },
        "id": "eUftP9jfcvrx",
        "outputId": "6faf10fa-a056-4ff1-bcf6-d977119c25ee"
      },
      "source": [
        "# number of 5 star reviews\n",
        "vine_five_star = vine_helpful_df.filter(\"star_rating = 5\").count()\n",
        "vine_five_star"
      ],
      "execution_count": 15,
      "outputs": [
        {
          "output_type": "execute_result",
          "data": {
            "text/plain": [
              "9"
            ]
          },
          "metadata": {
            "tags": []
          },
          "execution_count": 15
        }
      ]
    },
    {
      "cell_type": "code",
      "metadata": {
        "colab": {
          "base_uri": "https://localhost:8080/"
        },
        "id": "An6wrU6KdYM_",
        "outputId": "80ce0f9f-1cc3-4a57-cea2-267a02ea53fb"
      },
      "source": [
        "# percentage of 5 star reviews\n",
        "(vine_five_star/ vine_total) *100"
      ],
      "execution_count": 17,
      "outputs": [
        {
          "output_type": "execute_result",
          "data": {
            "text/plain": [
              "47.368421052631575"
            ]
          },
          "metadata": {
            "tags": []
          },
          "execution_count": 17
        }
      ]
    },
    {
      "cell_type": "markdown",
      "metadata": {
        "id": "CiS8YXVgdycz"
      },
      "source": [
        "### Analysis of Non-Paid Users"
      ]
    },
    {
      "cell_type": "code",
      "metadata": {
        "colab": {
          "base_uri": "https://localhost:8080/"
        },
        "id": "4wmBqDlSd5M9",
        "outputId": "4e68f39d-9e70-4159-e3e3-66dc24069a94"
      },
      "source": [
        "# total number of reviews\n",
        "non_vine_total = non_vine_helpful_df.count()\n",
        "non_vine_total"
      ],
      "execution_count": 18,
      "outputs": [
        {
          "output_type": "execute_result",
          "data": {
            "text/plain": [
              "8332"
            ]
          },
          "metadata": {
            "tags": []
          },
          "execution_count": 18
        }
      ]
    },
    {
      "cell_type": "code",
      "metadata": {
        "colab": {
          "base_uri": "https://localhost:8080/"
        },
        "id": "Wcwa3g_ceBLx",
        "outputId": "d55320b6-68cf-498c-e121-574571bf8913"
      },
      "source": [
        "# number of 5 star reviews\n",
        "non_vine_five_star = non_vine_helpful_df.filter(\"star_rating = 5\").count()\n",
        "non_vine_five_star"
      ],
      "execution_count": 19,
      "outputs": [
        {
          "output_type": "execute_result",
          "data": {
            "text/plain": [
              "4783"
            ]
          },
          "metadata": {
            "tags": []
          },
          "execution_count": 19
        }
      ]
    },
    {
      "cell_type": "code",
      "metadata": {
        "colab": {
          "base_uri": "https://localhost:8080/"
        },
        "id": "vh9uqMvveJVx",
        "outputId": "5d710cf2-3421-459b-a26d-ff43b5a37bdf"
      },
      "source": [
        "# percentage of 5 star reviews\n",
        "(non_vine_five_star/ non_vine_total) *100"
      ],
      "execution_count": 20,
      "outputs": [
        {
          "output_type": "execute_result",
          "data": {
            "text/plain": [
              "57.40518482957273"
            ]
          },
          "metadata": {
            "tags": []
          },
          "execution_count": 20
        }
      ]
    }
  ]
}